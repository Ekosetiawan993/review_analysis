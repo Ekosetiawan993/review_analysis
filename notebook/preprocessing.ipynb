{
 "cells": [
  {
   "cell_type": "code",
   "execution_count": 1,
   "id": "d359ab42",
   "metadata": {},
   "outputs": [],
   "source": [
    "import pandas as pd\n",
    "import numpy as np"
   ]
  },
  {
   "cell_type": "code",
   "execution_count": 2,
   "id": "86b2cb7a",
   "metadata": {},
   "outputs": [],
   "source": [
    "data_path = r'../data/review_data_cleaned.csv'"
   ]
  },
  {
   "cell_type": "code",
   "execution_count": 3,
   "id": "2b9946a5",
   "metadata": {},
   "outputs": [],
   "source": [
    "data = pd.read_csv(data_path)"
   ]
  },
  {
   "cell_type": "code",
   "execution_count": 4,
   "id": "9f70bbf7",
   "metadata": {},
   "outputs": [
    {
     "name": "stdout",
     "output_type": "stream",
     "text": [
      "<class 'pandas.core.frame.DataFrame'>\n",
      "RangeIndex: 689 entries, 0 to 688\n",
      "Data columns (total 2 columns):\n",
      " #   Column  Non-Null Count  Dtype \n",
      "---  ------  --------------  ----- \n",
      " 0   review  689 non-null    object\n",
      " 1   rating  689 non-null    int64 \n",
      "dtypes: int64(1), object(1)\n",
      "memory usage: 10.9+ KB\n"
     ]
    }
   ],
   "source": [
    "data.info()"
   ]
  },
  {
   "cell_type": "code",
   "execution_count": 6,
   "id": "70f573dc",
   "metadata": {},
   "outputs": [],
   "source": [
    "pd.set_option('display.max_colwidth', None)"
   ]
  },
  {
   "cell_type": "code",
   "execution_count": 7,
   "id": "f845cd95",
   "metadata": {},
   "outputs": [
    {
     "data": {
      "text/html": [
       "<div>\n",
       "<style scoped>\n",
       "    .dataframe tbody tr th:only-of-type {\n",
       "        vertical-align: middle;\n",
       "    }\n",
       "\n",
       "    .dataframe tbody tr th {\n",
       "        vertical-align: top;\n",
       "    }\n",
       "\n",
       "    .dataframe thead th {\n",
       "        text-align: right;\n",
       "    }\n",
       "</style>\n",
       "<table border=\"1\" class=\"dataframe\">\n",
       "  <thead>\n",
       "    <tr style=\"text-align: right;\">\n",
       "      <th></th>\n",
       "      <th>review</th>\n",
       "      <th>rating</th>\n",
       "    </tr>\n",
       "  </thead>\n",
       "  <tbody>\n",
       "    <tr>\n",
       "      <th>0</th>\n",
       "      <td>sepertinya ini termasuk produk indomie yang palaing parah, kenapa rasa salted egg kyk gini, bagian pengujiannya bagaimana ya.. kecewa banget mana awal hrganya wow banget mahal.</td>\n",
       "      <td>1</td>\n",
       "    </tr>\n",
       "    <tr>\n",
       "      <th>1</th>\n",
       "      <td>Awal liat tuh kayak enak banget tapi pas udh coba mie ini baru 2 suap dah mau muntah, maaf tapi saya kurang suka dengan rasanya.</td>\n",
       "      <td>1</td>\n",
       "    </tr>\n",
       "    <tr>\n",
       "      <th>2</th>\n",
       "      <td>Waktu pertama melihat produknya, saya cukup excited karena saya suka sekali dengan produk berbau salted egg. Ternyata Indomie varian ini tidak sesuai dengan ekspetasi saya. Perpaduan tekstur mie dan saus salted egg ternyata agak menjijikkan. Sama sekali tidak cocok.</td>\n",
       "      <td>1</td>\n",
       "    </tr>\n",
       "    <tr>\n",
       "      <th>3</th>\n",
       "      <td>Saya penikmat mie instan, saya suka mencoba banyak rasa mie instan karena saya penasaran. Ketika booming salted egg, semua makanan ada varian salted egg. Jadi saat itu saya beli karena ya Indomie terkenal dengan rasanya yang enak, namun saya mencoba dan jujur ini bukan salted egg yang saya suka. Rasanya saya jauh lebih baik jika makan Indomie gorengnya saja. Mungkin saya saja yang tidak suka. Tapi itu pendapat saya</td>\n",
       "      <td>1</td>\n",
       "    </tr>\n",
       "    <tr>\n",
       "      <th>4</th>\n",
       "      <td>ini mie aku kira enak karena rasa telur asin kayaknya gurih2 sedep gtu. eh pas coba, baunya menusuk banget di hidung pas dirasain after tastenya enggak enak banget, nyendal di langit-langit mulut dan enggak ilang-ilang rasanya padaha udah minum air banyak banget. sayang untuk rasa ini indomie fail bagt</td>\n",
       "      <td>1</td>\n",
       "    </tr>\n",
       "    <tr>\n",
       "      <th>...</th>\n",
       "      <td>...</td>\n",
       "      <td>...</td>\n",
       "    </tr>\n",
       "    <tr>\n",
       "      <th>684</th>\n",
       "      <td>Ovale face paper ini sangat baik dalam menyerap minyak berlebih di wajah saya. Tolong kualitas kertas nya lebih ditingkatkan agar tidak mudah sobek.</td>\n",
       "      <td>4</td>\n",
       "    </tr>\n",
       "    <tr>\n",
       "      <th>685</th>\n",
       "      <td>Harga lebih murah daripada yang bukan kertas ya, secara juga ini kertas jd kalau pakai harus pelan-pelan supaya ga sobek. Untuk nyerap minyaknya oke sih, kalau muka gak berminyak banget boleh lah pake yang ini aja</td>\n",
       "      <td>4</td>\n",
       "    </tr>\n",
       "    <tr>\n",
       "      <th>686</th>\n",
       "      <td>Menurut saya penggunaan Oval Face Paper ini bermanfaat untuk memghilangkan minyak namun dalam jangka pendek, karena minyak akan muncul lagi ketika beberapa saat saat penggunaan ini, namun Ovale Face Paper ini worth it untuk dibeli.</td>\n",
       "      <td>4</td>\n",
       "    </tr>\n",
       "    <tr>\n",
       "      <th>687</th>\n",
       "      <td>Ini andalan saya untuk bepergian karena harganya murah dan daya serap minyaknya yang lumayan, hanya saja kantongnya dari kertas jadi mudah sobek, dan untuk muka berminyak membutuhkan lebih dari satu kertas minyak, tapi untuk harga 10-15 rb product ini saya ekonomis dan bagus</td>\n",
       "      <td>4</td>\n",
       "    </tr>\n",
       "    <tr>\n",
       "      <th>688</th>\n",
       "      <td>Waktu itu saya beli karena murah dan isinya banyak. Setengah harga sendiri dari si biru hhe. Daya serapnya ya lumayan lah, untuk serap minyak di wajah saya gak cukup satu yg di tempel D. Wajah gak minyakan dan kantong gak jebol kalo pake kertas minyak dari ovale.</td>\n",
       "      <td>4</td>\n",
       "    </tr>\n",
       "  </tbody>\n",
       "</table>\n",
       "<p>689 rows × 2 columns</p>\n",
       "</div>"
      ],
      "text/plain": [
       "                                                                                                                                                                                                                                                                                                                                                                                                                                 review  \\\n",
       "0                                                                                                                                                                                                                                                      sepertinya ini termasuk produk indomie yang palaing parah, kenapa rasa salted egg kyk gini, bagian pengujiannya bagaimana ya.. kecewa banget mana awal hrganya wow banget mahal.   \n",
       "1                                                                                                                                                                                                                                                                                                      Awal liat tuh kayak enak banget tapi pas udh coba mie ini baru 2 suap dah mau muntah, maaf tapi saya kurang suka dengan rasanya.   \n",
       "2                                                                                                                                                            Waktu pertama melihat produknya, saya cukup excited karena saya suka sekali dengan produk berbau salted egg. Ternyata Indomie varian ini tidak sesuai dengan ekspetasi saya. Perpaduan tekstur mie dan saus salted egg ternyata agak menjijikkan. Sama sekali tidak cocok.   \n",
       "3    Saya penikmat mie instan, saya suka mencoba banyak rasa mie instan karena saya penasaran. Ketika booming salted egg, semua makanan ada varian salted egg. Jadi saat itu saya beli karena ya Indomie terkenal dengan rasanya yang enak, namun saya mencoba dan jujur ini bukan salted egg yang saya suka. Rasanya saya jauh lebih baik jika makan Indomie gorengnya saja. Mungkin saya saja yang tidak suka. Tapi itu pendapat saya   \n",
       "4                                                                                                                       ini mie aku kira enak karena rasa telur asin kayaknya gurih2 sedep gtu. eh pas coba, baunya menusuk banget di hidung pas dirasain after tastenya enggak enak banget, nyendal di langit-langit mulut dan enggak ilang-ilang rasanya padaha udah minum air banyak banget. sayang untuk rasa ini indomie fail bagt   \n",
       "..                                                                                                                                                                                                                                                                                                                                                                                                                                  ...   \n",
       "684                                                                                                                                                                                                                                                                                Ovale face paper ini sangat baik dalam menyerap minyak berlebih di wajah saya. Tolong kualitas kertas nya lebih ditingkatkan agar tidak mudah sobek.   \n",
       "685                                                                                                                                                                                                               Harga lebih murah daripada yang bukan kertas ya, secara juga ini kertas jd kalau pakai harus pelan-pelan supaya ga sobek. Untuk nyerap minyaknya oke sih, kalau muka gak berminyak banget boleh lah pake yang ini aja   \n",
       "686                                                                                                                                                                                             Menurut saya penggunaan Oval Face Paper ini bermanfaat untuk memghilangkan minyak namun dalam jangka pendek, karena minyak akan muncul lagi ketika beberapa saat saat penggunaan ini, namun Ovale Face Paper ini worth it untuk dibeli.   \n",
       "687                                                                                                                                                 Ini andalan saya untuk bepergian karena harganya murah dan daya serap minyaknya yang lumayan, hanya saja kantongnya dari kertas jadi mudah sobek, dan untuk muka berminyak membutuhkan lebih dari satu kertas minyak, tapi untuk harga 10-15 rb product ini saya ekonomis dan bagus   \n",
       "688                                                                                                                                                             Waktu itu saya beli karena murah dan isinya banyak. Setengah harga sendiri dari si biru hhe. Daya serapnya ya lumayan lah, untuk serap minyak di wajah saya gak cukup satu yg di tempel D. Wajah gak minyakan dan kantong gak jebol kalo pake kertas minyak dari ovale.   \n",
       "\n",
       "     rating  \n",
       "0         1  \n",
       "1         1  \n",
       "2         1  \n",
       "3         1  \n",
       "4         1  \n",
       "..      ...  \n",
       "684       4  \n",
       "685       4  \n",
       "686       4  \n",
       "687       4  \n",
       "688       4  \n",
       "\n",
       "[689 rows x 2 columns]"
      ]
     },
     "execution_count": 7,
     "metadata": {},
     "output_type": "execute_result"
    }
   ],
   "source": [
    "data"
   ]
  },
  {
   "cell_type": "code",
   "execution_count": null,
   "id": "720e7d68",
   "metadata": {},
   "outputs": [],
   "source": []
  },
  {
   "cell_type": "code",
   "execution_count": null,
   "id": "0e900ab3",
   "metadata": {},
   "outputs": [],
   "source": []
  },
  {
   "cell_type": "code",
   "execution_count": null,
   "id": "cefc75fe",
   "metadata": {},
   "outputs": [],
   "source": []
  },
  {
   "cell_type": "code",
   "execution_count": null,
   "id": "440468d3",
   "metadata": {},
   "outputs": [],
   "source": []
  },
  {
   "cell_type": "code",
   "execution_count": null,
   "id": "d5597e48",
   "metadata": {},
   "outputs": [],
   "source": []
  },
  {
   "cell_type": "code",
   "execution_count": null,
   "id": "8cc4eafd",
   "metadata": {},
   "outputs": [],
   "source": []
  },
  {
   "cell_type": "code",
   "execution_count": null,
   "id": "c88d50ab",
   "metadata": {},
   "outputs": [],
   "source": []
  },
  {
   "cell_type": "code",
   "execution_count": null,
   "id": "a63c5210",
   "metadata": {},
   "outputs": [],
   "source": []
  },
  {
   "cell_type": "code",
   "execution_count": null,
   "id": "9a590365",
   "metadata": {},
   "outputs": [],
   "source": []
  },
  {
   "cell_type": "code",
   "execution_count": null,
   "id": "ef131afc",
   "metadata": {},
   "outputs": [],
   "source": []
  },
  {
   "cell_type": "code",
   "execution_count": null,
   "id": "56e25dcb",
   "metadata": {},
   "outputs": [],
   "source": []
  },
  {
   "cell_type": "code",
   "execution_count": null,
   "id": "07c7ebfc",
   "metadata": {},
   "outputs": [],
   "source": []
  }
 ],
 "metadata": {
  "kernelspec": {
   "display_name": "Python 3 (ipykernel)",
   "language": "python",
   "name": "python3"
  },
  "language_info": {
   "codemirror_mode": {
    "name": "ipython",
    "version": 3
   },
   "file_extension": ".py",
   "mimetype": "text/x-python",
   "name": "python",
   "nbconvert_exporter": "python",
   "pygments_lexer": "ipython3",
   "version": "3.8.3"
  }
 },
 "nbformat": 4,
 "nbformat_minor": 5
}
