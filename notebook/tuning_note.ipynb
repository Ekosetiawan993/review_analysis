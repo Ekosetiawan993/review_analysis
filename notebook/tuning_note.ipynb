{
 "cells": [
  {
   "cell_type": "code",
   "execution_count": null,
   "id": "f85c8579-fdf5-42ea-901c-6eeea2ed9349",
   "metadata": {},
   "outputs": [],
   "source": [
    "from sklearn.model_selection import GridSearchCV"
   ]
  },
  {
   "cell_type": "code",
   "execution_count": null,
   "id": "e46eea56-c33d-40ac-9c23-03b7f0de33fa",
   "metadata": {},
   "outputs": [],
   "source": [
    "train_x_tf = TfidfVectorizer().fit_transform(train_full_x)"
   ]
  },
  {
   "cell_type": "code",
   "execution_count": null,
   "id": "c855f7e7-6a44-4c91-8d15-86cce222e733",
   "metadata": {},
   "outputs": [],
   "source": [
    "parameters = {\n",
    "    'alpha' : [0.000001, 0.00001, 0.0001, 0.001,],\n",
    "}"
   ]
  },
  {
   "cell_type": "code",
   "execution_count": null,
   "id": "af382e84-8a3b-4303-a0ab-8519fba1a40a",
   "metadata": {},
   "outputs": [],
   "source": [
    "mlp_tune_grid = GridSearchCV(MLPClassifier(random_state=50, hidden_layer_sizes=(580,)), parameters, scoring='accuracy', cv=5)"
   ]
  },
  {
   "cell_type": "code",
   "execution_count": null,
   "id": "4fa7c5fe-7c70-4360-9334-e6d6ef712780",
   "metadata": {},
   "outputs": [],
   "source": [
    "mlp_tune_grid.fit(train_x_tf, train_full_y)"
   ]
  },
  {
   "cell_type": "code",
   "execution_count": null,
   "id": "a18f91bf-4634-4727-adce-b533811d1b62",
   "metadata": {},
   "outputs": [],
   "source": [
    "print(mlp_tune_grid.best_params_)\n",
    "print(mlp_tune_grid.best_score_)"
   ]
  },
  {
   "cell_type": "code",
   "execution_count": null,
   "id": "6b854162-cd18-4c5e-9618-c412bfd02529",
   "metadata": {},
   "outputs": [],
   "source": []
  },
  {
   "cell_type": "code",
   "execution_count": null,
   "id": "f598ddbd-1386-41a7-8f7b-7aa255b3cb47",
   "metadata": {},
   "outputs": [],
   "source": []
  },
  {
   "cell_type": "code",
   "execution_count": null,
   "id": "1d7f7583-461d-4967-b52b-184f71ec7c31",
   "metadata": {},
   "outputs": [],
   "source": []
  },
  {
   "cell_type": "code",
   "execution_count": null,
   "id": "3713e467-1580-44c4-ba3b-77f640bf9299",
   "metadata": {},
   "outputs": [],
   "source": []
  }
 ],
 "metadata": {
  "kernelspec": {
   "display_name": "Python 3 (ipykernel)",
   "language": "python",
   "name": "python3"
  },
  "language_info": {
   "codemirror_mode": {
    "name": "ipython",
    "version": 3
   },
   "file_extension": ".py",
   "mimetype": "text/x-python",
   "name": "python",
   "nbconvert_exporter": "python",
   "pygments_lexer": "ipython3",
   "version": "3.8.3"
  }
 },
 "nbformat": 4,
 "nbformat_minor": 5
}
